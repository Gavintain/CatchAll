{
 "cells": [
  {
   "cell_type": "code",
   "execution_count": 1,
   "metadata": {},
   "outputs": [],
   "source": [
    "import os\n",
    "import random\n",
    "import shutil\n",
    "import json\n",
    "import random"
   ]
  },
  {
   "cell_type": "code",
   "execution_count": 28,
   "metadata": {},
   "outputs": [
    {
     "name": "stdout",
     "output_type": "stream",
     "text": [
      "17 137\n",
      "18 103\n"
     ]
    }
   ],
   "source": [
    "sp = 'validation'\n",
    "path = 'e:/p2_data/120personal_veh/01data/2Validation/'+sp+'_json/'+sp+'2_ann.json'\n",
    "\n",
    "with open(path, 'r') as file:\n",
    "    data = json.load(file)\n",
    "\n",
    "classes = ['Motorcycle_Pedestrian Road Violation', 'Motorcycle_No Helmet', 'Motorcycle_Jaywalking', \n",
    "'Motorcycle_Signal Violation', 'Motorcycle_Stop Line Violation', 'Motorcycle_Crosswalk Violation', \n",
    "'Bicycle_Pedestrian Road Violation', 'Bicycle_No Helmet', 'Bicycle_Jaywalking', \n",
    "'Bicycle_Signal Violation', 'Bicycle_Stop Line Violation', 'Bicycle_Crosswalk Violation', \n",
    "'Kickboard_Pedestrian Road Violation', 'Kickboard_No Helmet', 'Kickboard_Jaywalking', \n",
    "'Kickboard_Signal Violation', 'Kickboard_Stop Line Violation', 'Kickboard_Crosswalk Violation', 'Kickboard_Passenger Violation']\n",
    "\n",
    "\n",
    "annotations = data['annotations']\n",
    "maxlen = len(annotations)\n",
    "searched_list=[]\n",
    "ban_list = ['T008037_072_0012_C_D_F_0.jpg',\n",
    "'T008037_067_0096_C_D_F_0.jpg',\n",
    "'T008037_072_0156_C_D_F_0.jpg',\n",
    "'T008037_009_0020_C_D_F_0.jpg',\n",
    "'T008037_068_0040_C_D_F_0.jpg', \n",
    "'T008037_068_0040_C_D_F_0.jpg',\n",
    "'T008037_068_0040_C_D_F_0.jpg',\n",
    "'T015350_007_0378_C_D_F_1.jpg',\n",
    "'T008037_100_0060_C_D_F_0.jpg',\n",
    "'T008037_066_0126_C_D_F_0.jpg',\n",
    "'T008037_066_0126_C_D_F_0.jpg',\n",
    "'T008037_067_0160_C_D_F_0.jpg',\n",
    "'T008037_066_0144_C_D_F_0.jpg',\n",
    "'T008037_066_0144_C_D_F_0.jpg',\n",
    "'T008034_001_0144_B_D_F_0.jpg', \n",
    "'T008037_068_0100_C_D_F_0.jpg', \n",
    "'T008037_068_0100_C_D_F_0.jpg',\n",
    "'T007931_000_0070_B_D_F_0.jpg']\n",
    "\n",
    "to_save_dict = {i:[] for i in range(len(classes))}\n",
    "tot_dict = {i:[] for i in range(len(classes))}\n",
    "\n",
    "for i in range(maxlen):\n",
    "    idx = random.randint(0,maxlen-1)\n",
    "    label = annotations[idx]['category_id']\n",
    "    img_id = annotations[idx]['image_id']\n",
    "    if (img_id in searched_list):\n",
    "        continue\n",
    "    else:\n",
    "        filename = data['images'][img_id-1]['file_name']\n",
    "        if filename in ban_list:\n",
    "            continue\n",
    "        else:\n",
    "            tot_dict[label].append([data['images'][img_id-1],annotations[idx]])\n",
    "            searched_list.append(img_id)\n",
    "\n",
    "for i in range(16):\n",
    "    print(i,len(tot_dict[i]))\n",
    "    to_save_dict[i] = random.sample(tot_dict[i],10)\n",
    "for i in range(17,19):\n",
    "    print(i,len(tot_dict[i]))\n",
    "    to_save_dict[i] = random.sample(tot_dict[i],10)\n",
    "\n",
    "\n",
    "with open('sample_data.json', 'w') as file:\n",
    "    json.dump(to_save_dict,file)\n"
   ]
  },
  {
   "cell_type": "code",
   "execution_count": 30,
   "metadata": {},
   "outputs": [
    {
     "name": "stdout",
     "output_type": "stream",
     "text": [
      "0\n"
     ]
    }
   ],
   "source": [
    "sp = 'train'\n",
    "path = 'e:/p2_data/120personal_veh/01data/2Validation/'+sp+'_json/'+sp+'2_ann.json'\n",
    "\n",
    "with open(path, 'r') as file:\n",
    "    data = json.load(file)\n",
    "\n",
    "classes = ['Motorcycle_Pedestrian Road Violation', 'Motorcycle_No Helmet', 'Motorcycle_Jaywalking', \n",
    "'Motorcycle_Signal Violation', 'Motorcycle_Stop Line Violation', 'Motorcycle_Crosswalk Violation', \n",
    "'Bicycle_Pedestrian Road Violation', 'Bicycle_No Helmet', 'Bicycle_Jaywalking', \n",
    "'Bicycle_Signal Violation', 'Bicycle_Stop Line Violation', 'Bicycle_Crosswalk Violation', \n",
    "'Kickboard_Pedestrian Road Violation', 'Kickboard_No Helmet', 'Kickboard_Jaywalking', \n",
    "'Kickboard_Signal Violation', 'Kickboard_Stop Line Violation', 'Kickboard_Crosswalk Violation', 'Kickboard_Passenger Violation']\n",
    "\n",
    "\n",
    "annotations = data['annotations']\n",
    "maxlen = len(annotations)\n",
    "searched_list=[]\n",
    "ban_list = ['T008037_072_0012_C_D_F_0.jpg',\n",
    "'T008037_067_0096_C_D_F_0.jpg',\n",
    "'T008037_072_0156_C_D_F_0.jpg',\n",
    "'T008037_009_0020_C_D_F_0.jpg',\n",
    "'T008037_068_0040_C_D_F_0.jpg', \n",
    "'T008037_068_0040_C_D_F_0.jpg',\n",
    "'T008037_068_0040_C_D_F_0.jpg',\n",
    "'T015350_007_0378_C_D_F_1.jpg',\n",
    "'T008037_100_0060_C_D_F_0.jpg',\n",
    "'T008037_066_0126_C_D_F_0.jpg',\n",
    "'T008037_066_0126_C_D_F_0.jpg',\n",
    "'T008037_067_0160_C_D_F_0.jpg',\n",
    "'T008037_066_0144_C_D_F_0.jpg',\n",
    "'T008037_066_0144_C_D_F_0.jpg',\n",
    "'T008034_001_0144_B_D_F_0.jpg', \n",
    "'T008037_068_0100_C_D_F_0.jpg', \n",
    "'T008037_068_0100_C_D_F_0.jpg',\n",
    "'T007931_000_0070_B_D_F_0.jpg']\n",
    "\n",
    "to_save_dict = {i:[] for i in range(len(classes))}\n",
    "tot_dict = {i:[] for i in range(len(classes))}\n",
    "\n",
    "for i in range(maxlen):\n",
    "    idx = random.randint(0,maxlen-1)\n",
    "    label = annotations[idx]['category_id']\n",
    "    img_id = annotations[idx]['image_id']\n",
    "    filename = data['images'][img_id-1]['file_name']\n",
    "    if filename in ban_list:\n",
    "        continue\n",
    "    else:\n",
    "        tot_dict[label].append([data['images'][img_id-1],annotations[idx]])\n",
    "        searched_list.append(img_id)\n",
    "print(len(tot_dict[16]))"
   ]
  }
 ],
 "metadata": {
  "kernelspec": {
   "display_name": "tp2_env",
   "language": "python",
   "name": "python3"
  },
  "language_info": {
   "codemirror_mode": {
    "name": "ipython",
    "version": 3
   },
   "file_extension": ".py",
   "mimetype": "text/x-python",
   "name": "python",
   "nbconvert_exporter": "python",
   "pygments_lexer": "ipython3",
   "version": "3.10.12"
  },
  "orig_nbformat": 4
 },
 "nbformat": 4,
 "nbformat_minor": 2
}
